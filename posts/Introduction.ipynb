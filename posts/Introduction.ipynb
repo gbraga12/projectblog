{
 "cells": [
  {
   "cell_type": "markdown",
   "id": "ce5d80b4",
   "metadata": {},
   "source": [
    "# Introduction\n",
    "**Dataset Source**: https://archive.ics.uci.edu/ml/datasets/Cervical+cancer+%28Risk+Factors%29\n",
    "\n",
    "I will be analyzing data on cervical cancer risk factors. The researchers surveyed almost 900 women at the the University Hospital of Caracas in Caracas, Venezuela. The dataset includes numerical information such as the age of participants, number of sexual partners, or years using hormonal contraceptives and boolean information such as does the participant smoke, have HPV, or use an IUD. \n",
    "\n",
    "I wanted to investigate this topic because as a woman, women's health is important to me. Women with health concerns are often discredited and their concerns ignored. It is all to common to hear stories of women going to their doctor for help and being told they're wrong or overreacting, only to find out later their condition was as serious as they had thought and the doctor was wrong. It is important for women to be aware of behaviors that could be putting them at risk to protect themselves or to be able to recognize when their symptoms could be part of a bigger issue. The sooner a health condition is caught, especially one as serious as cancer, the sooner treatment can begin, and the better odds someone has of recovering. \n",
    "\n",
    "In this project, I want to identify the behaviors most closely associated with getting cervical cancer and if there are behaviors when combined, make the risk higher. "
   ]
  },
  {
   "cell_type": "markdown",
   "id": "baf806b1",
   "metadata": {},
   "source": [
    "# Data Information"
   ]
  },
  {
   "cell_type": "code",
   "execution_count": 1,
   "id": "ce79f002",
   "metadata": {},
   "outputs": [],
   "source": [
    "import pandas as pd"
   ]
  },
  {
   "cell_type": "code",
   "execution_count": 11,
   "id": "722c6900",
   "metadata": {},
   "outputs": [],
   "source": [
    "data = pd.read_csv('https://raw.githubusercontent.com/gbraga12/DH140-FinalProject/main/cervical_cancer_risk_factors.csv')"
   ]
  },
  {
   "cell_type": "markdown",
   "id": "957acd7c",
   "metadata": {},
   "source": [
    "### Initial Processing"
   ]
  },
  {
   "cell_type": "code",
   "execution_count": 29,
   "id": "5e33d1ac",
   "metadata": {},
   "outputs": [],
   "source": [
    "# Change ? in dataset to None\n",
    "for i in data:\n",
    "    data.loc[data[i] == '?', i] = None\n",
    "\n",
    "# Convert at column datatypes into int\n",
    "columns = data.columns\n",
    "for j in columns:\n",
    "    data[j] = pd.to_numeric(data[j])"
   ]
  },
  {
   "cell_type": "markdown",
   "id": "2833fb53",
   "metadata": {},
   "source": [
    "### Data Statistics"
   ]
  },
  {
   "cell_type": "code",
   "execution_count": 28,
   "id": "8628859d",
   "metadata": {
    "scrolled": false
   },
   "outputs": [
    {
     "data": {
      "text/html": [
       "<div>\n",
       "<style scoped>\n",
       "    .dataframe tbody tr th:only-of-type {\n",
       "        vertical-align: middle;\n",
       "    }\n",
       "\n",
       "    .dataframe tbody tr th {\n",
       "        vertical-align: top;\n",
       "    }\n",
       "\n",
       "    .dataframe thead th {\n",
       "        text-align: right;\n",
       "    }\n",
       "</style>\n",
       "<table border=\"1\" class=\"dataframe\">\n",
       "  <thead>\n",
       "    <tr style=\"text-align: right;\">\n",
       "      <th></th>\n",
       "      <th>Age</th>\n",
       "      <th>Number of sexual partners</th>\n",
       "      <th>First sexual intercourse</th>\n",
       "      <th>Num of pregnancies</th>\n",
       "      <th>Smokes</th>\n",
       "      <th>Smokes (years)</th>\n",
       "      <th>Smokes (packs/year)</th>\n",
       "      <th>Hormonal Contraceptives</th>\n",
       "      <th>Hormonal Contraceptives (years)</th>\n",
       "      <th>IUD</th>\n",
       "      <th>...</th>\n",
       "      <th>STDs: Time since first diagnosis</th>\n",
       "      <th>STDs: Time since last diagnosis</th>\n",
       "      <th>Dx:Cancer</th>\n",
       "      <th>Dx:CIN</th>\n",
       "      <th>Dx:HPV</th>\n",
       "      <th>Dx</th>\n",
       "      <th>Hinselmann</th>\n",
       "      <th>Schiller</th>\n",
       "      <th>Citology</th>\n",
       "      <th>Biopsy</th>\n",
       "    </tr>\n",
       "  </thead>\n",
       "  <tbody>\n",
       "    <tr>\n",
       "      <th>count</th>\n",
       "      <td>858.000000</td>\n",
       "      <td>832.000000</td>\n",
       "      <td>851.000000</td>\n",
       "      <td>802.000000</td>\n",
       "      <td>845.000000</td>\n",
       "      <td>845.000000</td>\n",
       "      <td>845.000000</td>\n",
       "      <td>750.000000</td>\n",
       "      <td>750.000000</td>\n",
       "      <td>741.000000</td>\n",
       "      <td>...</td>\n",
       "      <td>71.000000</td>\n",
       "      <td>71.000000</td>\n",
       "      <td>858.000000</td>\n",
       "      <td>858.000000</td>\n",
       "      <td>858.000000</td>\n",
       "      <td>858.000000</td>\n",
       "      <td>858.000000</td>\n",
       "      <td>858.000000</td>\n",
       "      <td>858.000000</td>\n",
       "      <td>858.000000</td>\n",
       "    </tr>\n",
       "    <tr>\n",
       "      <th>mean</th>\n",
       "      <td>26.820513</td>\n",
       "      <td>2.527644</td>\n",
       "      <td>16.995300</td>\n",
       "      <td>2.275561</td>\n",
       "      <td>0.145562</td>\n",
       "      <td>1.219721</td>\n",
       "      <td>0.453144</td>\n",
       "      <td>0.641333</td>\n",
       "      <td>2.256419</td>\n",
       "      <td>0.112011</td>\n",
       "      <td>...</td>\n",
       "      <td>6.140845</td>\n",
       "      <td>5.816901</td>\n",
       "      <td>0.020979</td>\n",
       "      <td>0.010490</td>\n",
       "      <td>0.020979</td>\n",
       "      <td>0.027972</td>\n",
       "      <td>0.040793</td>\n",
       "      <td>0.086247</td>\n",
       "      <td>0.051282</td>\n",
       "      <td>0.064103</td>\n",
       "    </tr>\n",
       "    <tr>\n",
       "      <th>std</th>\n",
       "      <td>8.497948</td>\n",
       "      <td>1.667760</td>\n",
       "      <td>2.803355</td>\n",
       "      <td>1.447414</td>\n",
       "      <td>0.352876</td>\n",
       "      <td>4.089017</td>\n",
       "      <td>2.226610</td>\n",
       "      <td>0.479929</td>\n",
       "      <td>3.764254</td>\n",
       "      <td>0.315593</td>\n",
       "      <td>...</td>\n",
       "      <td>5.895024</td>\n",
       "      <td>5.755271</td>\n",
       "      <td>0.143398</td>\n",
       "      <td>0.101939</td>\n",
       "      <td>0.143398</td>\n",
       "      <td>0.164989</td>\n",
       "      <td>0.197925</td>\n",
       "      <td>0.280892</td>\n",
       "      <td>0.220701</td>\n",
       "      <td>0.245078</td>\n",
       "    </tr>\n",
       "    <tr>\n",
       "      <th>min</th>\n",
       "      <td>13.000000</td>\n",
       "      <td>1.000000</td>\n",
       "      <td>10.000000</td>\n",
       "      <td>0.000000</td>\n",
       "      <td>0.000000</td>\n",
       "      <td>0.000000</td>\n",
       "      <td>0.000000</td>\n",
       "      <td>0.000000</td>\n",
       "      <td>0.000000</td>\n",
       "      <td>0.000000</td>\n",
       "      <td>...</td>\n",
       "      <td>1.000000</td>\n",
       "      <td>1.000000</td>\n",
       "      <td>0.000000</td>\n",
       "      <td>0.000000</td>\n",
       "      <td>0.000000</td>\n",
       "      <td>0.000000</td>\n",
       "      <td>0.000000</td>\n",
       "      <td>0.000000</td>\n",
       "      <td>0.000000</td>\n",
       "      <td>0.000000</td>\n",
       "    </tr>\n",
       "    <tr>\n",
       "      <th>25%</th>\n",
       "      <td>20.000000</td>\n",
       "      <td>2.000000</td>\n",
       "      <td>15.000000</td>\n",
       "      <td>1.000000</td>\n",
       "      <td>0.000000</td>\n",
       "      <td>0.000000</td>\n",
       "      <td>0.000000</td>\n",
       "      <td>0.000000</td>\n",
       "      <td>0.000000</td>\n",
       "      <td>0.000000</td>\n",
       "      <td>...</td>\n",
       "      <td>2.000000</td>\n",
       "      <td>2.000000</td>\n",
       "      <td>0.000000</td>\n",
       "      <td>0.000000</td>\n",
       "      <td>0.000000</td>\n",
       "      <td>0.000000</td>\n",
       "      <td>0.000000</td>\n",
       "      <td>0.000000</td>\n",
       "      <td>0.000000</td>\n",
       "      <td>0.000000</td>\n",
       "    </tr>\n",
       "    <tr>\n",
       "      <th>50%</th>\n",
       "      <td>25.000000</td>\n",
       "      <td>2.000000</td>\n",
       "      <td>17.000000</td>\n",
       "      <td>2.000000</td>\n",
       "      <td>0.000000</td>\n",
       "      <td>0.000000</td>\n",
       "      <td>0.000000</td>\n",
       "      <td>1.000000</td>\n",
       "      <td>0.500000</td>\n",
       "      <td>0.000000</td>\n",
       "      <td>...</td>\n",
       "      <td>4.000000</td>\n",
       "      <td>3.000000</td>\n",
       "      <td>0.000000</td>\n",
       "      <td>0.000000</td>\n",
       "      <td>0.000000</td>\n",
       "      <td>0.000000</td>\n",
       "      <td>0.000000</td>\n",
       "      <td>0.000000</td>\n",
       "      <td>0.000000</td>\n",
       "      <td>0.000000</td>\n",
       "    </tr>\n",
       "    <tr>\n",
       "      <th>75%</th>\n",
       "      <td>32.000000</td>\n",
       "      <td>3.000000</td>\n",
       "      <td>18.000000</td>\n",
       "      <td>3.000000</td>\n",
       "      <td>0.000000</td>\n",
       "      <td>0.000000</td>\n",
       "      <td>0.000000</td>\n",
       "      <td>1.000000</td>\n",
       "      <td>3.000000</td>\n",
       "      <td>0.000000</td>\n",
       "      <td>...</td>\n",
       "      <td>8.000000</td>\n",
       "      <td>7.500000</td>\n",
       "      <td>0.000000</td>\n",
       "      <td>0.000000</td>\n",
       "      <td>0.000000</td>\n",
       "      <td>0.000000</td>\n",
       "      <td>0.000000</td>\n",
       "      <td>0.000000</td>\n",
       "      <td>0.000000</td>\n",
       "      <td>0.000000</td>\n",
       "    </tr>\n",
       "    <tr>\n",
       "      <th>max</th>\n",
       "      <td>84.000000</td>\n",
       "      <td>28.000000</td>\n",
       "      <td>32.000000</td>\n",
       "      <td>11.000000</td>\n",
       "      <td>1.000000</td>\n",
       "      <td>37.000000</td>\n",
       "      <td>37.000000</td>\n",
       "      <td>1.000000</td>\n",
       "      <td>30.000000</td>\n",
       "      <td>1.000000</td>\n",
       "      <td>...</td>\n",
       "      <td>22.000000</td>\n",
       "      <td>22.000000</td>\n",
       "      <td>1.000000</td>\n",
       "      <td>1.000000</td>\n",
       "      <td>1.000000</td>\n",
       "      <td>1.000000</td>\n",
       "      <td>1.000000</td>\n",
       "      <td>1.000000</td>\n",
       "      <td>1.000000</td>\n",
       "      <td>1.000000</td>\n",
       "    </tr>\n",
       "  </tbody>\n",
       "</table>\n",
       "<p>8 rows × 36 columns</p>\n",
       "</div>"
      ],
      "text/plain": [
       "              Age  Number of sexual partners  First sexual intercourse  \\\n",
       "count  858.000000                 832.000000                851.000000   \n",
       "mean    26.820513                   2.527644                 16.995300   \n",
       "std      8.497948                   1.667760                  2.803355   \n",
       "min     13.000000                   1.000000                 10.000000   \n",
       "25%     20.000000                   2.000000                 15.000000   \n",
       "50%     25.000000                   2.000000                 17.000000   \n",
       "75%     32.000000                   3.000000                 18.000000   \n",
       "max     84.000000                  28.000000                 32.000000   \n",
       "\n",
       "       Num of pregnancies      Smokes  Smokes (years)  Smokes (packs/year)  \\\n",
       "count          802.000000  845.000000      845.000000           845.000000   \n",
       "mean             2.275561    0.145562        1.219721             0.453144   \n",
       "std              1.447414    0.352876        4.089017             2.226610   \n",
       "min              0.000000    0.000000        0.000000             0.000000   \n",
       "25%              1.000000    0.000000        0.000000             0.000000   \n",
       "50%              2.000000    0.000000        0.000000             0.000000   \n",
       "75%              3.000000    0.000000        0.000000             0.000000   \n",
       "max             11.000000    1.000000       37.000000            37.000000   \n",
       "\n",
       "       Hormonal Contraceptives  Hormonal Contraceptives (years)         IUD  \\\n",
       "count               750.000000                       750.000000  741.000000   \n",
       "mean                  0.641333                         2.256419    0.112011   \n",
       "std                   0.479929                         3.764254    0.315593   \n",
       "min                   0.000000                         0.000000    0.000000   \n",
       "25%                   0.000000                         0.000000    0.000000   \n",
       "50%                   1.000000                         0.500000    0.000000   \n",
       "75%                   1.000000                         3.000000    0.000000   \n",
       "max                   1.000000                        30.000000    1.000000   \n",
       "\n",
       "       ...  STDs: Time since first diagnosis  STDs: Time since last diagnosis  \\\n",
       "count  ...                         71.000000                        71.000000   \n",
       "mean   ...                          6.140845                         5.816901   \n",
       "std    ...                          5.895024                         5.755271   \n",
       "min    ...                          1.000000                         1.000000   \n",
       "25%    ...                          2.000000                         2.000000   \n",
       "50%    ...                          4.000000                         3.000000   \n",
       "75%    ...                          8.000000                         7.500000   \n",
       "max    ...                         22.000000                        22.000000   \n",
       "\n",
       "        Dx:Cancer      Dx:CIN      Dx:HPV          Dx  Hinselmann    Schiller  \\\n",
       "count  858.000000  858.000000  858.000000  858.000000  858.000000  858.000000   \n",
       "mean     0.020979    0.010490    0.020979    0.027972    0.040793    0.086247   \n",
       "std      0.143398    0.101939    0.143398    0.164989    0.197925    0.280892   \n",
       "min      0.000000    0.000000    0.000000    0.000000    0.000000    0.000000   \n",
       "25%      0.000000    0.000000    0.000000    0.000000    0.000000    0.000000   \n",
       "50%      0.000000    0.000000    0.000000    0.000000    0.000000    0.000000   \n",
       "75%      0.000000    0.000000    0.000000    0.000000    0.000000    0.000000   \n",
       "max      1.000000    1.000000    1.000000    1.000000    1.000000    1.000000   \n",
       "\n",
       "         Citology      Biopsy  \n",
       "count  858.000000  858.000000  \n",
       "mean     0.051282    0.064103  \n",
       "std      0.220701    0.245078  \n",
       "min      0.000000    0.000000  \n",
       "25%      0.000000    0.000000  \n",
       "50%      0.000000    0.000000  \n",
       "75%      0.000000    0.000000  \n",
       "max      1.000000    1.000000  \n",
       "\n",
       "[8 rows x 36 columns]"
      ]
     },
     "execution_count": 28,
     "metadata": {},
     "output_type": "execute_result"
    }
   ],
   "source": [
    "data.describe()"
   ]
  },
  {
   "cell_type": "markdown",
   "id": "be22e703",
   "metadata": {},
   "source": [
    "### Exploratory Data Visualizations"
   ]
  },
  {
   "cell_type": "code",
   "execution_count": 33,
   "id": "f721a899",
   "metadata": {},
   "outputs": [
    {
     "data": {
      "text/plain": [
       "<AxesSubplot: ylabel='Frequency'>"
      ]
     },
     "execution_count": 33,
     "metadata": {},
     "output_type": "execute_result"
    },
    {
     "data": {
      "image/png": "[encoded data removed]",
      "text/plain": [
       "<Figure size 640x480 with 1 Axes>"
      ]
     },
     "metadata": {},
     "output_type": "display_data"
    }
   ],
   "source": [
    "data.plot(y = 'Age', kind = 'hist', bins = 80)"
   ]
  },
  {
   "cell_type": "code",
   "execution_count": 50,
   "id": "55b9366b",
   "metadata": {},
   "outputs": [],
   "source": [
    "graphcolors = []\n",
    "for i in data['Dx:HPV']:\n",
    "    if i == 0:\n",
    "        graphcolors.append('yellow')\n",
    "    else:\n",
    "        graphcolors.append('black')"
   ]
  },
  {
   "cell_type": "code",
   "execution_count": 53,
   "id": "468be4bd",
   "metadata": {
    "scrolled": false
   },
   "outputs": [
    {
     "data": {
      "text/plain": [
       "<AxesSubplot: >"
      ]
     },
     "execution_count": 53,
     "metadata": {},
     "output_type": "execute_result"
    },
    {
     "data": {
      "image/png": "[encoded data removed]",
      "text/plain": [
       "<Figure size 640x480 with 1 Axes>"
      ]
     },
     "metadata": {},
     "output_type": "display_data"
    }
   ],
   "source": [
    "data.plot(y = 'First sexual intercourse', kind = 'bar', label = None, color = graphcolors)"
   ]
  },
  {
   "cell_type": "code",
   "execution_count": 59,
   "id": "1359dbab",
   "metadata": {
    "scrolled": false
   },
   "outputs": [
    {
     "data": {
      "text/plain": [
       "<AxesSubplot: xlabel='Age', ylabel='Hormonal Contraceptives (years)'>"
      ]
     },
     "execution_count": 59,
     "metadata": {},
     "output_type": "execute_result"
    },
    {
     "data": {
      "image/png": "[encoded data removed]",
      "text/plain": [
       "<Figure size 640x480 with 1 Axes>"
      ]
     },
     "metadata": {},
     "output_type": "display_data"
    }
   ],
   "source": [
    "trunc_data = data.loc[(data['Hormonal Contraceptives (years)'] > 0.0) & (data['Hormonal Contraceptives (years)'] != None)\n",
    "                     ]\n",
    "trunc_data.plot(x = 'Age', y = 'Hormonal Contraceptives (years)', kind = 'scatter')"
   ]
  },
  {
   "cell_type": "code",
   "execution_count": 72,
   "id": "4b0cb304",
   "metadata": {
    "scrolled": false
   },
   "outputs": [
    {
     "data": {
      "text/plain": [
       "<AxesSubplot: >"
      ]
     },
     "execution_count": 72,
     "metadata": {},
     "output_type": "execute_result"
    },
    {
     "data": {
      "image/png": "[encoded data removed]",
      "text/plain": [
       "<Figure size 640x480 with 1 Axes>"
      ]
     },
     "metadata": {},
     "output_type": "display_data"
    }
   ],
   "source": [
    "trunc_data = data.loc[(data['Smokes (years)'] > 0.0) & (data['Smokes (years)'] != None)\n",
    "                     ]\n",
    "\n",
    "trunc_data.plot(y = 'Smokes (years)', kind = 'box')"
   ]
  },
  {
   "cell_type": "markdown",
   "id": "2662f2be",
   "metadata": {},
   "source": [
    "### Preliminary Analysis"
   ]
  },
  {
   "cell_type": "code",
   "execution_count": 70,
   "id": "94aaad3d",
   "metadata": {},
   "outputs": [
    {
     "data": {
      "text/plain": [
       "0.02097902097902098"
      ]
     },
     "execution_count": 70,
     "metadata": {},
     "output_type": "execute_result"
    }
   ],
   "source": [
    "data.loc[:, 'Dx:HPV'].mean()"
   ]
  },
  {
   "cell_type": "markdown",
   "id": "0365b597",
   "metadata": {},
   "source": [
    "Using the above line of code, it is determined that 2% of the women surveyed have been diagnosed with cervical cancer. A graphic I would like to make is find the percentages of women have each of the STDs the researchers were looking for a make a bar chart showing them."
   ]
  },
  {
   "cell_type": "markdown",
   "id": "d829738a",
   "metadata": {},
   "source": [
    "I would also like to make graphs showing women's risk factors and highlighting the women who have been diagnosed with an STD in another color. I attempted this in the visualizations section above, however it did not turn out very readable. I'll have to find another way to accomplish this goal."
   ]
  },
  {
   "cell_type": "markdown",
   "id": "87918573",
   "metadata": {},
   "source": [
    "To show how certain risk factors are more connected to different STDs, I'd like to make a network visualization of all the women diagnosed and what activities they participated in. "
   ]
  },
  {
   "cell_type": "markdown",
   "id": "dc26a3cb",
   "metadata": {},
   "source": [
    "A final visualization I would like to make is one using a heat map to show the correlation between risk activities and STDs. To do so, I will have to do some data processing and make some subjective decisions on what is risky. For example, the more seuxal partners someone has, the more likely someone is to get an STD. I will probably have to choose a number to be the crossover between a lower risk and higher risk number of partners. "
   ]
  }
 ],
 "metadata": {
  "kernelspec": {
   "display_name": "Python 3 (ipykernel)",
   "language": "python",
   "name": "python3"
  },
  "language_info": {
   "codemirror_mode": {
    "name": "ipython",
    "version": 3
   },
   "file_extension": ".py",
   "mimetype": "text/x-python",
   "name": "python",
   "nbconvert_exporter": "python",
   "pygments_lexer": "ipython3",
   "version": "3.10.8"
  }
 },
 "nbformat": 4,
 "nbformat_minor": 5
}
